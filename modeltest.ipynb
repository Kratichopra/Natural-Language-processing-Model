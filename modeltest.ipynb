{
  "cells": [
    {
      "cell_type": "markdown",
      "metadata": {
        "id": "view-in-github",
        "colab_type": "text"
      },
      "source": [
        "<a href=\"https://colab.research.google.com/github/Kratichopra/Natural-language-Processing-Model/blob/main/modeltest.ipynb\" target=\"_parent\"><img src=\"https://colab.research.google.com/assets/colab-badge.svg\" alt=\"Open In Colab\"/></a>"
      ]
    },
    {
      "cell_type": "code",
      "execution_count": null,
      "metadata": {
        "id": "RXPLcs23J9qt"
      },
      "outputs": [],
      "source": [
        "import json\n",
        "import tensorflow.keras as keras\n",
        "from tensorflow.keras.preprocessing.text import Tokenizer\n",
        "from tensorflow.keras.preprocessing.sequence import pad_sequences"
      ]
    },
    {
      "cell_type": "code",
      "execution_count": null,
      "metadata": {
        "id": "CkmhhtpaKNMn",
        "outputId": "1bb62bf6-d08e-4117-e11f-ce02814452a9"
      },
      "outputs": [
        {
          "ename": "NameError",
          "evalue": "name 'keras' is not defined",
          "output_type": "error",
          "traceback": [
            "\u001b[1;31m---------------------------------------------------------------------------\u001b[0m",
            "\u001b[1;31mNameError\u001b[0m                                 Traceback (most recent call last)",
            "Cell \u001b[1;32mIn[1], line 1\u001b[0m\n\u001b[1;32m----> 1\u001b[0m chatbot \u001b[38;5;241m=\u001b[39m \u001b[43mkeras\u001b[49m\u001b[38;5;241m.\u001b[39mmodels\u001b[38;5;241m.\u001b[39mload_model(\u001b[38;5;124m'\u001b[39m\u001b[38;5;124mdialogbot.keras\u001b[39m\u001b[38;5;124m'\u001b[39m)\n",
            "\u001b[1;31mNameError\u001b[0m: name 'keras' is not defined"
          ]
        }
      ],
      "source": [
        "chatbot = keras.models.load_model('dialogbot.keras')"
      ]
    },
    {
      "cell_type": "code",
      "execution_count": null,
      "metadata": {
        "colab": {
          "base_uri": "https://localhost:8080/"
        },
        "id": "flRURu6oKn4w",
        "outputId": "41ea570d-6a5e-4938-c590-1b54566c290c"
      },
      "outputs": [
        {
          "name": "stdout",
          "output_type": "stream",
          "text": [
            "do you have a digital tv for life she asked on\n"
          ]
        }
      ],
      "source": [
        "with open('dailogtoken.json') as json_file:\n",
        "    token = json.load(json_file)\n",
        "def get_key(val):\n",
        "   for key, value in token.items():\n",
        "        if val == value:\n",
        "            return key\n",
        "def seq(seed_text):\n",
        "  string = seed_text.split(\" \")\n",
        "  for i in range(len(string)):\n",
        "    string[i] = token[string[i]]\n",
        "  return string\n",
        "seed_text = \"do\"\n",
        "\n",
        "\n",
        "\n",
        "while True:\n",
        "  token_list = seq(seed_text)\n",
        "  token_list = pad_sequences([token_list], maxlen=18, padding='pre')\n",
        "  predicted = chatbot.predict(token_list, verbose=0)\n",
        "  # print(max(predicted[0]))\n",
        "  a = max(predicted[0])\n",
        "  predicted=predicted.tolist()\n",
        "  b = predicted[0].index(a)\n",
        "  output_word = get_key(b)\n",
        "  seed_text += \" \"+ output_word\n",
        "\n",
        "  if a<0.65:\n",
        "    break\n",
        "print(len(seed_text.split(\" \")))\n"
      ]
    }
  ],
  "metadata": {
    "colab": {
      "provenance": [],
      "include_colab_link": true
    },
    "kernelspec": {
      "display_name": "Python 3",
      "name": "python3"
    },
    "language_info": {
      "codemirror_mode": {
        "name": "ipython",
        "version": 3
      },
      "file_extension": ".py",
      "mimetype": "text/x-python",
      "name": "python",
      "nbconvert_exporter": "python",
      "pygments_lexer": "ipython3",
      "version": "3.12.0"
    }
  },
  "nbformat": 4,
  "nbformat_minor": 0
}